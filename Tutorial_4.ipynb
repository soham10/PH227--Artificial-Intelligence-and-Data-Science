{
 "cells": [
  {
   "cell_type": "markdown",
   "metadata": {},
   "source": [
    "# Tutorial 4\n",
    "## Name: Soham Sahasrabuddhe\n",
    "## Roll Number: 23B1848"
   ]
  },
  {
   "cell_type": "code",
   "execution_count": 15,
   "metadata": {},
   "outputs": [],
   "source": [
    "import numpy as np\n",
    "from sklearn.model_selection import train_test_split"
   ]
  },
  {
   "cell_type": "markdown",
   "metadata": {},
   "source": [
    "### Question 1"
   ]
  },
  {
   "cell_type": "code",
   "execution_count": 9,
   "metadata": {},
   "outputs": [],
   "source": [
    "# Defining activation function\n",
    "def step(x):\n",
    "    return np.where(x > 0, 1, 0)\n",
    "\n",
    "def sigmoid(x):\n",
    "    return 1 / (1 + np.exp(-x))\n",
    "\n",
    "def relu(x):\n",
    "    return np.maximum(x, 0)\n",
    "\n",
    "def tanh(x):\n",
    "    return np.tanh(x)\n",
    "\n",
    "# Dictionary for input of activation\n",
    "activation_functions = {\n",
    "    'step': step,\n",
    "    'sigmoid': sigmoid,\n",
    "    'relu': relu,\n",
    "    'tanh': tanh\n",
    "    }"
   ]
  },
  {
   "cell_type": "code",
   "execution_count": 12,
   "metadata": {},
   "outputs": [
    {
     "name": "stdout",
     "output_type": "stream",
     "text": [
      "Activation function chosen: step\n"
     ]
    }
   ],
   "source": [
    "# User inputs on size, weights, biases and activation\n",
    "n_i = int(input(\"Neurons in the input layer: \"))\n",
    "n_h = int(input(\"Neurons in the hidden layer: \"))\n",
    "n_o = int(input(\"Neurons in the output layer: \"))\n",
    "\n",
    "m_h = np.array([int(input(f'Number of neurons in the hidden layer {i+1}: ')) for i in range(n_h)])\n",
    "\n",
    "inputs = np.array([float(input(f'Enter real input value {i+1}: ')) for i in range(n_i)])\n",
    "\n",
    "weights = []\n",
    "biases = []\n",
    "\n",
    "# input to hidden layer\n",
    "weights.append(np.array([[float(input(f\"Enter weight for Input layer to first hidden layer i.e. W(1)_{i + 1}{j + 1}: \")) for j in range(m_h[0])] for i in range(n_i)]))\n",
    "biases.append(np.array([float(input(f\"Enter bias for Input layer to first hidden layer i.e. b(1)_{i + 1}: \")) for i in range(m_h[0])]))\n",
    "\n",
    "# hidden layers\n",
    "for k in range(1,n_h):\n",
    "    weights.append(np.array([[float(input(f\"Enter weight for Hidden layer {k} to Hidden Layer {k + 1} i.e. W({k + 1})_{i + 1}{j + 1}: \")) for j in range(m_h[k])] for i in range(m_h[k - 1])]))\n",
    "    biases.append(np.array([float(input(f\"Enter bias for Hidden layer {k} to Hidden Layer {k + 1} i.e. b({k + 1})_{i +1}: \")) for i in range(m_h[k])]))\n",
    "\n",
    "# hidden to output layer\n",
    "weights.append(np.array([[float(input(f\"Enter weight for Hidden layer {n_h} to Output layer i.e. W({n_h + 1})_{i + 1}{j +1}: \")) for j in range(n_o)] for i in range(m_h[n_h- 1])]))\n",
    "biases.append(np.array([float(input(f\"Enter bias for Hidden layer {n_h} to Output layer i.e. b({n_h + 1})_{i + 1}: \")) for i in range(n_o)]))\n",
    "\n",
    "# Activation\n",
    "activation_user = input(\"Choose appropriate function out of step, relu, sigmoid, and tanh: \").lower()  # For consistency if user types uppercase characters\n",
    "activation = activation_functions.get(activation_user)\n",
    "if activation is None:\n",
    "    print(\"Invalid activation function. Defaulting to sigmoid.\")\n",
    "    activation = sigmoid\n",
    "else:\n",
    "    print(f\"Activation function chosen: {activation_user}\")"
   ]
  },
  {
   "cell_type": "code",
   "execution_count": 13,
   "metadata": {},
   "outputs": [
    {
     "name": "stdout",
     "output_type": "stream",
     "text": [
      "Output:  [3.]\n"
     ]
    }
   ],
   "source": [
    "# Forward Propagation\n",
    "input_layer = inputs\n",
    "\n",
    "for k in range(n_h + 1):\n",
    "    output_layer = np.dot(input_layer, weights[k]) + biases[k]\n",
    "    input_layer = activation(output_layer) if k < n_h else output_layer\n",
    "\n",
    "final_output = input_layer\n",
    "print(\"Output: \", final_output)"
   ]
  },
  {
   "cell_type": "markdown",
   "metadata": {},
   "source": [
    "### Question 2:"
   ]
  },
  {
   "cell_type": "code",
   "execution_count": null,
   "metadata": {},
   "outputs": [],
   "source": []
  }
 ],
 "metadata": {
  "kernelspec": {
   "display_name": "Python 3",
   "language": "python",
   "name": "python3"
  },
  "language_info": {
   "codemirror_mode": {
    "name": "ipython",
    "version": 3
   },
   "file_extension": ".py",
   "mimetype": "text/x-python",
   "name": "python",
   "nbconvert_exporter": "python",
   "pygments_lexer": "ipython3",
   "version": "3.8.10"
  }
 },
 "nbformat": 4,
 "nbformat_minor": 2
}
