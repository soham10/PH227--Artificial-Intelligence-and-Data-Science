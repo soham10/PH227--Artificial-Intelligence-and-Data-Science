{
 "cells": [
  {
   "cell_type": "markdown",
   "metadata": {},
   "source": [
    "# Tutorial 3\n",
    "## Name: Soham Sahasrabuddhe\n",
    "## Roll Number: 23B1848"
   ]
  },
  {
   "cell_type": "code",
   "execution_count": 63,
   "metadata": {},
   "outputs": [],
   "source": [
    "import numpy as np\n",
    "from sklearn.linear_model import Ridge\n",
    "from sklearn.kernel_ridge import KernelRidge\n",
    "import time\n",
    "from sklearn.model_selection import train_test_split\n",
    "np.random.seed(int(time.time()))"
   ]
  },
  {
   "cell_type": "markdown",
   "metadata": {},
   "source": [
    "# Question 1"
   ]
  },
  {
   "cell_type": "code",
   "execution_count": 64,
   "metadata": {},
   "outputs": [],
   "source": [
    "X = np.arange(0,5,0.01)\n",
    "Y = np.sin(X)\n",
    "noise = np.arange(4,len(X),5)\n",
    "Y[noise] += np.random.rand()"
   ]
  },
  {
   "cell_type": "markdown",
   "metadata": {},
   "source": [
    "### Part (a)"
   ]
  },
  {
   "cell_type": "code",
   "execution_count": 65,
   "metadata": {},
   "outputs": [],
   "source": [
    "N = len(X)\n",
    "index = np.arange(N)\n",
    "np.random.shuffle(index)  # Creating test and training data randomly\n",
    "\n",
    "train_split = int(0.7*(N))\n",
    "val_split = int(0.15 * (N))\n",
    "\n",
    "train_x = X[index[:train_split]].reshape(-1,1) # Gives error if not reshaped\n",
    "train_y = Y[index[:train_split]]\n",
    "\n",
    "val_x = X[index[train_split:train_split + val_split]].reshape(-1,1)\n",
    "val_y = Y[index[train_split:train_split + val_split]]\n",
    "\n",
    "test_x = X[index[train_split + val_split:]].reshape(-1,1)\n",
    "test_y = Y[index[train_split + val_split:]]"
   ]
  },
  {
   "cell_type": "markdown",
   "metadata": {},
   "source": [
    "### Part (b)"
   ]
  },
  {
   "cell_type": "code",
   "execution_count": 66,
   "metadata": {},
   "outputs": [
    {
     "name": "stdout",
     "output_type": "stream",
     "text": [
      "MSE for Ridge (λ=0.01): 0.25167603588127774\n",
      "MSE for Ridge (λ=0.1): 0.2516767083051788\n",
      "MSE for Ridge (λ=1): 0.2516840644733674\n",
      "MSE for Ridge (λ=10): 0.2518190889402294\n",
      "MSE for Ridge (λ=100): 0.2578902653344613\n"
     ]
    }
   ],
   "source": [
    "lambdas = [0.01, 0.1, 1, 10, 100]  # Hyperparameter values to test\n",
    "results = {}\n",
    "\n",
    "for lamb in lambdas:\n",
    "    # Ridge Regression\n",
    "    ridge = Ridge(alpha=lamb)\n",
    "    ridge.fit(train_x, train_y)\n",
    "    y_pred_ridge = ridge.predict(test_x)\n",
    "    mse_ridge = np.mean((test_y - y_pred_ridge)**2)\n",
    "    results[f'Ridge (λ={lamb})'] = mse_ridge\n",
    "\n",
    "for model, mse in results.items():\n",
    "    print(f'MSE for {model}: {mse}')"
   ]
  },
  {
   "cell_type": "markdown",
   "metadata": {},
   "source": [
    "### Part (c)"
   ]
  },
  {
   "cell_type": "code",
   "execution_count": 67,
   "metadata": {},
   "outputs": [
    {
     "name": "stdout",
     "output_type": "stream",
     "text": [
      "Gamma: 0.01, Generalization Error: 0.21658596681970138\n",
      "Gamma: 0.1, Generalization Error: 0.1382286613085527\n",
      "Gamma: 0.2, Generalization Error: 0.14022114771641225\n",
      "Gamma: 1, Generalization Error: 0.14803254711079195\n"
     ]
    }
   ],
   "source": [
    "gammas = [0.01, 0.1,0.2,1]\n",
    "k_errors = []\n",
    "\n",
    "for g in gammas:\n",
    "    model = KernelRidge(alpha=1, kernel='rbf', gamma=g)\n",
    "    model.fit(train_x, train_y)\n",
    "    y_pred = model.predict(test_x)\n",
    "    error = np.mean((test_y - y_pred)**2)\n",
    "    k_errors.append(error)\n",
    "\n",
    "for g, e in zip(gammas, k_errors):\n",
    "    print(f'Gamma: {g}, Generalization Error: {e}')"
   ]
  },
  {
   "cell_type": "markdown",
   "metadata": {},
   "source": [
    "### Part (d)"
   ]
  },
  {
   "cell_type": "markdown",
   "metadata": {},
   "source": [
    "Kernel Ridge yields better results in this case"
   ]
  },
  {
   "cell_type": "markdown",
   "metadata": {},
   "source": [
    "# Question 2"
   ]
  },
  {
   "cell_type": "code",
   "execution_count": 68,
   "metadata": {},
   "outputs": [],
   "source": [
    "X1 = np.arange(0,1,0.05)\n",
    "X2 = np.arange(0,1,0.05)\n",
    "X1,X2 = np.meshgrid(X1,X2)\n",
    "X = np.column_stack((X1.ravel(), X2.ravel()))\n",
    "\n",
    "Y = X1.ravel()**2 + X2.ravel()**2"
   ]
  },
  {
   "cell_type": "markdown",
   "metadata": {},
   "source": [
    "### Part (a)"
   ]
  },
  {
   "cell_type": "code",
   "execution_count": 69,
   "metadata": {},
   "outputs": [],
   "source": [
    "N = len(X)\n",
    "index = np.arange(N)\n",
    "np.random.shuffle(index)  # Creating test and training data randomly\n",
    "\n",
    "train_split = int(0.7*(N))\n",
    "val_split = int(0.15 * (N))\n",
    "\n",
    "train_x = X[index[:train_split]]\n",
    "train_y = Y[index[:train_split]]\n",
    "\n",
    "val_x = X[index[train_split:train_split + val_split]]\n",
    "val_y = Y[index[train_split:train_split + val_split]]\n",
    "\n",
    "test_x = X[index[train_split + val_split:]]\n",
    "test_y = Y[index[train_split + val_split:]]"
   ]
  },
  {
   "cell_type": "markdown",
   "metadata": {},
   "source": [
    "### Part (b)"
   ]
  },
  {
   "cell_type": "code",
   "execution_count": 70,
   "metadata": {},
   "outputs": [
    {
     "name": "stdout",
     "output_type": "stream",
     "text": [
      "MSE for Ridge (λ=0.01): 0.010232593496101368\n",
      "MSE for Ridge (λ=0.1): 0.010260894994039104\n",
      "MSE for Ridge (λ=1): 0.01074137980157435\n",
      "MSE for Ridge (λ=10): 0.024833937710603868\n",
      "MSE for Ridge (λ=100): 0.10810332298833888\n"
     ]
    }
   ],
   "source": [
    "lambdas = [0.01, 0.1, 1, 10, 100]  # Hyperparameter values to test\n",
    "results = {}\n",
    "\n",
    "for lamb in lambdas:\n",
    "    # Ridge Regression\n",
    "    ridge = Ridge(alpha=lamb)\n",
    "    ridge.fit(train_x, train_y)\n",
    "    y_pred_ridge = ridge.predict(test_x)\n",
    "    mse_ridge = np.mean((test_y - y_pred_ridge)**2)\n",
    "    results[f'Ridge (λ={lamb})'] = mse_ridge\n",
    "\n",
    "for model, mse in results.items():\n",
    "    print(f'MSE for {model}: {mse}')"
   ]
  },
  {
   "cell_type": "markdown",
   "metadata": {},
   "source": [
    "### Part (c)"
   ]
  },
  {
   "cell_type": "code",
   "execution_count": 71,
   "metadata": {},
   "outputs": [
    {
     "name": "stdout",
     "output_type": "stream",
     "text": [
      "Generalization Error: 0.004445080736123217\n"
     ]
    }
   ],
   "source": [
    "model = KernelRidge(alpha=1, kernel='polynomial',degree=2)\n",
    "model.fit(train_x, train_y)\n",
    "y_pred = model.predict(test_x)\n",
    "error = np.mean((test_y - y_pred)**2)\n",
    "\n",
    "print(f'Generalization Error: {error}')"
   ]
  },
  {
   "cell_type": "markdown",
   "metadata": {},
   "source": [
    "### Part (d)"
   ]
  },
  {
   "cell_type": "markdown",
   "metadata": {},
   "source": [
    "Kernel Ridge yields better results in this case as well"
   ]
  }
 ],
 "metadata": {
  "kernelspec": {
   "display_name": "Python 3",
   "language": "python",
   "name": "python3"
  },
  "language_info": {
   "codemirror_mode": {
    "name": "ipython",
    "version": 3
   },
   "file_extension": ".py",
   "mimetype": "text/x-python",
   "name": "python",
   "nbconvert_exporter": "python",
   "pygments_lexer": "ipython3",
   "version": "3.8.10"
  }
 },
 "nbformat": 4,
 "nbformat_minor": 2
}
