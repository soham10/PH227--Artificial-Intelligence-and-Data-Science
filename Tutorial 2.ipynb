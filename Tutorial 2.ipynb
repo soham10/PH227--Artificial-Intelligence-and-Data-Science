{
 "cells": [
  {
   "cell_type": "markdown",
   "metadata": {},
   "source": [
    "# Tutorial 2\n",
    "## Name: Soham Sahasrabuddhe\n",
    "## Roll Number: 23B1848"
   ]
  },
  {
   "cell_type": "code",
   "execution_count": 23,
   "metadata": {},
   "outputs": [],
   "source": [
    "#Basic imports\n",
    "import numpy as np\n",
    "import matplotlib.pyplot as plt\n",
    "from sklearn.linear_model import Ridge, Lasso"
   ]
  },
  {
   "cell_type": "markdown",
   "metadata": {},
   "source": [
    "# Question 1"
   ]
  },
  {
   "cell_type": "code",
   "execution_count": 24,
   "metadata": {},
   "outputs": [],
   "source": [
    "x_min = float(input(\"Enter minimum\"))\n",
    "x_max = float(input(\"Enter maximum\"))\n",
    "\n",
    "N = int(input(\"Enter total bins\"))\n",
    "\n",
    "m = float(input(\"Value of m\"))\n",
    "c = float(input(\"Value of c\"))\n",
    "a1 = float(input(\"Value of a1\"))\n",
    "a2 = float(input(\"Value of a2\"))\n",
    "\n",
    "h = (x_max - x_min)/N  # Step Size\n",
    "\n",
    "x_val = np.zeros(N+1)\n",
    "y_val = np.zeros(N+1)\n",
    "\n",
    "x = x_min\n",
    "for i in range(N + 1):\n",
    "    x_val[i] = x\n",
    "    rnd1 = np.random.uniform(-0.5, 0.5)\n",
    "    rnd2 = np.random.uniform(-0.5, 0.5)\n",
    "    y_val[i] = (m + a1 * rnd1) * x + c + a2 * rnd2\n",
    "    x += h"
   ]
  },
  {
   "cell_type": "code",
   "execution_count": 25,
   "metadata": {},
   "outputs": [
    {
     "data": {
      "image/png": "[encoded data removed]",
      "text/plain": [
       "<Figure size 432x288 with 1 Axes>"
      ]
     },
     "metadata": {
      "needs_background": "light"
     },
     "output_type": "display_data"
    }
   ],
   "source": [
    "# The Plot\n",
    "plt.scatter(x_val, y_val, c = 'r')\n",
    "plt.title('Scatter Plot of x and y')\n",
    "plt.xlabel('x')\n",
    "plt.ylabel('y')\n",
    "plt.show()"
   ]
  },
  {
   "cell_type": "markdown",
   "metadata": {},
   "source": [
    "### Using Linear Regression"
   ]
  },
  {
   "cell_type": "code",
   "execution_count": 26,
   "metadata": {},
   "outputs": [],
   "source": [
    "index = np.arange(N+1)\n",
    "np.random.shuffle(index)  # Creating test and training data randomly\n",
    "\n",
    "split = int(0.7*(N+1))\n",
    "\n",
    "train_x = x_val[index[:split]]\n",
    "train_y = y_val[index[:split]]\n",
    "\n",
    "test_x = x_val[index[split:]]\n",
    "test_y = y_val[index[split:]]"
   ]
  },
  {
   "cell_type": "code",
   "execution_count": 27,
   "metadata": {},
   "outputs": [],
   "source": [
    "n = len(train_x)\n",
    "beta_1 = ((np.mean(train_x))*(np.mean(train_y)) - np.mean(train_x*train_y))/(np.mean(train_x)**2 - np.mean(train_x**2))\n",
    "beta_0 = (np.mean(train_y) - beta_1*np.mean(train_x))\n",
    "\n",
    "best_y = beta_0 + beta_1 * test_x"
   ]
  },
  {
   "cell_type": "code",
   "execution_count": 28,
   "metadata": {},
   "outputs": [
    {
     "data": {
      "image/png": "[encoded data removed]",
      "text/plain": [
       "<Figure size 432x288 with 1 Axes>"
      ]
     },
     "metadata": {
      "needs_background": "light"
     },
     "output_type": "display_data"
    }
   ],
   "source": [
    "plt.scatter(test_x, test_y, c = 'r')\n",
    "plt.plot(test_x,best_y,c = 'black')\n",
    "plt.title('Linear Regression')\n",
    "plt.xlabel('x (test)')\n",
    "plt.ylabel('y (test)')\n",
    "plt.show()"
   ]
  },
  {
   "cell_type": "code",
   "execution_count": 29,
   "metadata": {},
   "outputs": [
    {
     "name": "stdout",
     "output_type": "stream",
     "text": [
      "4.2925471727148745e-28\n"
     ]
    }
   ],
   "source": [
    "mse_test = np.mean((test_y - best_y)**2)\n",
    "print(mse_test)"
   ]
  },
  {
   "cell_type": "markdown",
   "metadata": {},
   "source": [
    "### Using Ridge and Lasso Regression"
   ]
  },
  {
   "cell_type": "code",
   "execution_count": 30,
   "metadata": {},
   "outputs": [
    {
     "name": "stdout",
     "output_type": "stream",
     "text": [
      "MSE for Ridge Regression: 2.4673124374553674e-09\n",
      "MSE for Lasso Regression: 0.0012089871424003356\n"
     ]
    }
   ],
   "source": [
    "index = np.arange(N+1)\n",
    "np.random.shuffle(index)  # Creating test and training data randomly\n",
    "\n",
    "train_split = int(0.7*(N+1))\n",
    "val_split = int(0.15 * (N + 1))\n",
    "\n",
    "train_x = x_val[index[:train_split]].reshape(-1,1) # Gives error if not reshaped\n",
    "train_y = y_val[index[:train_split]]\n",
    "\n",
    "val_x = x_val[index[train_split:train_split + val_split]].reshape(-1,1)\n",
    "val_y = y_val[index[train_split:train_split + val_split]]\n",
    "\n",
    "test_x = x_val[index[train_split + val_split:]].reshape(-1,1)\n",
    "test_y = y_val[index[train_split + val_split:]]\n",
    "\n",
    "lamb = 1 # Hyperparameter\n",
    "\n",
    "# Ridge Regression\n",
    "ridge = Ridge(alpha=lamb)\n",
    "ridge.fit(train_x, train_y)\n",
    "y_pred = ridge.predict(val_x)\n",
    "mse = np.mean((y_pred - val_y) ** 2)\n",
    "print(f'MSE for Ridge Regression: {mse}')\n",
    "\n",
    "# Lasso Regression\n",
    "lasso = Lasso(alpha=lamb)\n",
    "lasso.fit(train_x, train_y)\n",
    "y_pred = lasso.predict(val_x)\n",
    "mse = np.mean((y_pred - val_y) ** 2)\n",
    "print(f'MSE for Lasso Regression: {mse}')"
   ]
  }
 ],
 "metadata": {
  "kernelspec": {
   "display_name": "Python 3",
   "language": "python",
   "name": "python3"
  },
  "language_info": {
   "codemirror_mode": {
    "name": "ipython",
    "version": 3
   },
   "file_extension": ".py",
   "mimetype": "text/x-python",
   "name": "python",
   "nbconvert_exporter": "python",
   "pygments_lexer": "ipython3",
   "version": "3.8.10"
  }
 },
 "nbformat": 4,
 "nbformat_minor": 2
}
