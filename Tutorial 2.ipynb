{
 "cells": [
  {
   "cell_type": "markdown",
   "metadata": {},
   "source": [
    "# Tutorial 2\n",
    "## Name: Soham Sahasrabuddhe\n",
    "## Roll Number: 23B1848"
   ]
  },
  {
   "cell_type": "code",
   "execution_count": 51,
   "metadata": {},
   "outputs": [],
   "source": [
    "#Basic imports\n",
    "import numpy as np\n",
    "import matplotlib.pyplot as plt\n",
    "from sklearn.linear_model import Ridge, Lasso, LinearRegression\n",
    "from sklearn.model_selection import train_test_split"
   ]
  },
  {
   "cell_type": "markdown",
   "metadata": {},
   "source": [
    "# Question 1"
   ]
  },
  {
   "cell_type": "code",
   "execution_count": 56,
   "metadata": {},
   "outputs": [],
   "source": [
    "x_min = 0\n",
    "x_max = 100\n",
    "\n",
    "N = 1000\n",
    "\n",
    "m = 1\n",
    "c = 2\n",
    "a1 = 0.1\n",
    "a2 = 0.2\n",
    "\n",
    "h = (x_max - x_min)/(N-1)  # Step Size\n",
    "\n",
    "x_val = np.zeros(N)\n",
    "y_val = np.zeros(N)\n",
    "\n",
    "x = x_min\n",
    "for i in range(N):\n",
    "    x_val[i] = x\n",
    "    rnd1 = np.random.uniform(-0.5, 0.5)\n",
    "    rnd2 = np.random.uniform(-0.5, 0.5)\n",
    "    y_val[i] = (m + a1 * rnd1) * x + c + a2 * rnd2\n",
    "    x += h"
   ]
  },
  {
   "cell_type": "code",
   "execution_count": 57,
   "metadata": {},
   "outputs": [
    {
     "data": {
      "image/png": "[encoded data removed]",
      "text/plain": [
       "<Figure size 432x288 with 1 Axes>"
      ]
     },
     "metadata": {
      "needs_background": "light"
     },
     "output_type": "display_data"
    }
   ],
   "source": [
    "# The Plot\n",
    "plt.scatter(x_val, y_val, c = 'r')\n",
    "plt.title('Scatter Plot of x and y')\n",
    "plt.xlabel('x')\n",
    "plt.ylabel('y')\n",
    "plt.show()"
   ]
  },
  {
   "cell_type": "markdown",
   "metadata": {},
   "source": [
    "### Using Linear Regression"
   ]
  },
  {
   "cell_type": "code",
   "execution_count": 58,
   "metadata": {},
   "outputs": [],
   "source": [
    "train_x, test_x, train_y, test_y = train_test_split(x_val, y_val, test_size=0.3, random_state=37)\n",
    "\n",
    "beta_1 = ((np.mean(train_x))*(np.mean(train_y)) - np.mean(train_x*train_y))/(np.mean(train_x)**2 - np.mean(train_x**2))\n",
    "beta_0 = (np.mean(train_y) - beta_1*np.mean(train_x))\n",
    "\n",
    "best_y = beta_0 + beta_1 * test_x"
   ]
  },
  {
   "cell_type": "code",
   "execution_count": 59,
   "metadata": {},
   "outputs": [
    {
     "data": {
      "image/png": "[encoded data removed]",
      "text/plain": [
       "<Figure size 432x288 with 1 Axes>"
      ]
     },
     "metadata": {
      "needs_background": "light"
     },
     "output_type": "display_data"
    }
   ],
   "source": [
    "plt.scatter(test_x, test_y, c = 'r')\n",
    "plt.plot(test_x,best_y,c = 'black')\n",
    "plt.title('Linear Regression')\n",
    "plt.xlabel('x (test)')\n",
    "plt.ylabel('y (test)')\n",
    "plt.show()"
   ]
  },
  {
   "cell_type": "code",
   "execution_count": 60,
   "metadata": {},
   "outputs": [
    {
     "name": "stdout",
     "output_type": "stream",
     "text": [
      "2.8353077681506624\n"
     ]
    }
   ],
   "source": [
    "mse_test = np.mean((test_y - best_y)**2)\n",
    "print(mse_test)"
   ]
  },
  {
   "cell_type": "markdown",
   "metadata": {},
   "source": [
    "### Using Ridge and Lasso Regression"
   ]
  },
  {
   "cell_type": "code",
   "execution_count": 61,
   "metadata": {},
   "outputs": [
    {
     "name": "stdout",
     "output_type": "stream",
     "text": [
      "MSE for Ridge (λ=0.01): 2.5394268866724747\n",
      "MSE for Lasso (λ=0.01): 2.539397409502366\n",
      "MSE for Ridge (λ=0.1): 2.539426506397197\n",
      "MSE for Lasso (λ=0.1): 2.539142462390122\n",
      "MSE for Ridge (λ=1): 2.5394227058096885\n",
      "MSE for Lasso (λ=1): 2.5376550351409355\n",
      "MSE for Ridge (λ=10): 2.5393849164533475\n",
      "MSE for Lasso (λ=10): 2.628985149970535\n",
      "MSE for Ridge (λ=100): 2.5390286672313596\n",
      "MSE for Lasso (λ=100): 14.162725030413428\n"
     ]
    }
   ],
   "source": [
    "index = np.arange(N)\n",
    "np.random.shuffle(index)  # Creating test and training data randomly\n",
    "\n",
    "train_split = int(0.7*(N))\n",
    "val_split = int(0.15 * (N))\n",
    "\n",
    "train_x = x_val[index[:train_split]].reshape(-1,1) # Gives error if not reshaped\n",
    "train_y = y_val[index[:train_split]]\n",
    "\n",
    "val_x = x_val[index[train_split:train_split + val_split]].reshape(-1,1)\n",
    "val_y = y_val[index[train_split:train_split + val_split]]\n",
    "\n",
    "test_x = x_val[index[train_split + val_split:]].reshape(-1,1)\n",
    "test_y = y_val[index[train_split + val_split:]]\n",
    "\n",
    "lambdas = [0.01, 0.1, 1, 10, 100]  # Hyperparameter values to test\n",
    "results = {}\n",
    "\n",
    "for lamb in lambdas:\n",
    "    # Ridge Regression\n",
    "    ridge = Ridge(alpha=lamb)\n",
    "    ridge.fit(train_x, train_y)\n",
    "    y_pred_ridge = ridge.predict(val_x)\n",
    "    mse_ridge = np.mean((val_y - y_pred_ridge)**2)\n",
    "    results[f'Ridge (λ={lamb})'] = mse_ridge\n",
    "\n",
    "    # Lasso Regression\n",
    "    lasso = Lasso(alpha=lamb)\n",
    "    lasso.fit(train_x, train_y)\n",
    "    y_pred_lasso = lasso.predict(val_x)\n",
    "    mse_lasso = np.mean((val_y-y_pred_lasso)**2)\n",
    "    results[f'Lasso (λ={lamb})'] = mse_lasso\n",
    "\n",
    "# Print results\n",
    "for model, mse in results.items():\n",
    "    print(f'MSE for {model}: {mse}')"
   ]
  },
  {
   "cell_type": "markdown",
   "metadata": {},
   "source": [
    "# Question 2"
   ]
  },
  {
   "cell_type": "code",
   "execution_count": 62,
   "metadata": {},
   "outputs": [
    {
     "name": "stdout",
     "output_type": "stream",
     "text": [
      "{'uci_id': 242, 'name': 'Energy Efficiency', 'repository_url': 'https://archive.ics.uci.edu/dataset/242/energy+efficiency', 'data_url': 'https://archive.ics.uci.edu/static/public/242/data.csv', 'abstract': 'This study looked into assessing the heating load and cooling load requirements of buildings (that is, energy efficiency) as a function of building parameters.', 'area': 'Computer Science', 'tasks': ['Classification', 'Regression'], 'characteristics': ['Multivariate'], 'num_instances': 768, 'num_features': 8, 'feature_types': ['Integer', 'Real'], 'demographics': [], 'target_col': ['Y1', 'Y2'], 'index_col': None, 'has_missing_values': 'no', 'missing_values_symbol': None, 'year_of_dataset_creation': 2012, 'last_updated': 'Mon Feb 26 2024', 'dataset_doi': '10.24432/C51307', 'creators': ['Athanasios Tsanas', 'Angeliki Xifara'], 'intro_paper': {'ID': 379, 'type': 'NATIVE', 'title': 'Accurate quantitative estimation of energy performance of residential buildings using statistical machine learning tools', 'authors': 'A. Tsanas, Angeliki Xifara', 'venue': 'Energy and Buildings, vol. 49', 'year': 2012, 'journal': None, 'DOI': None, 'URL': 'https://www.semanticscholar.org/paper/Accurate-quantitative-estimation-of-energy-of-using-Tsanas-Xifara/719e65379c5959141180a45f540f707d583b8ce2', 'sha': None, 'corpus': None, 'arxiv': None, 'mag': None, 'acl': None, 'pmid': None, 'pmcid': None}, 'additional_info': {'summary': 'We perform energy analysis using 12 different building shapes simulated in Ecotect. The buildings differ with respect to the glazing area, the glazing area distribution, and the orientation, amongst other parameters. We simulate various settings as functions of the afore-mentioned characteristics to obtain 768 building shapes. The dataset comprises 768 samples and 8 features, aiming to predict two real valued responses. It can also be used as a multi-class classification problem if the response is rounded to the nearest integer.', 'purpose': None, 'funded_by': None, 'instances_represent': None, 'recommended_data_splits': None, 'sensitive_data': None, 'preprocessing_description': None, 'variable_info': 'The dataset contains eight attributes (or features, denoted by X1...X8) and two responses (or outcomes, denoted by y1 and y2). The aim is to use the eight features to predict each of the two responses.\\r\\n\\r\\nSpecifically:\\r\\nX1\\tRelative Compactness\\r\\nX2\\tSurface Area\\r\\nX3\\tWall Area\\r\\nX4\\tRoof Area\\r\\nX5\\tOverall Height\\r\\nX6\\tOrientation\\r\\nX7\\tGlazing Area\\r\\nX8\\tGlazing Area Distribution\\r\\ny1\\tHeating Load\\r\\ny2\\tCooling Load', 'citation': None}}\n",
      "  name     role        type demographic                description units  \\\n",
      "0   X1  Feature  Continuous        None       Relative Compactness  None   \n",
      "1   X2  Feature  Continuous        None               Surface Area  None   \n",
      "2   X3  Feature  Continuous        None                  Wall Area  None   \n",
      "3   X4  Feature  Continuous        None                  Roof Area  None   \n",
      "4   X5  Feature  Continuous        None             Overall Height  None   \n",
      "5   X6  Feature     Integer        None                Orientation  None   \n",
      "6   X7  Feature  Continuous        None               Glazing Area  None   \n",
      "7   X8  Feature     Integer        None  Glazing Area Distribution  None   \n",
      "8   Y1   Target  Continuous        None               Heating Load  None   \n",
      "9   Y2   Target  Continuous        None               Cooling Load  None   \n",
      "\n",
      "  missing_values  \n",
      "0             no  \n",
      "1             no  \n",
      "2             no  \n",
      "3             no  \n",
      "4             no  \n",
      "5             no  \n",
      "6             no  \n",
      "7             no  \n",
      "8             no  \n",
      "9             no  \n"
     ]
    }
   ],
   "source": [
    "from ucimlrepo import fetch_ucirepo \n",
    "  \n",
    "energy_efficiency = fetch_ucirepo(id=242) \n",
    "  \n",
    "# data \n",
    "X = np.array(energy_efficiency.data.features)\n",
    "Y = np.array(energy_efficiency.data.targets)\n",
    "  \n",
    "# metadata \n",
    "print(energy_efficiency.metadata) \n",
    "  \n",
    "# variable information \n",
    "print(energy_efficiency.variables) "
   ]
  },
  {
   "cell_type": "markdown",
   "metadata": {},
   "source": [
    "## Part (a)"
   ]
  },
  {
   "cell_type": "code",
   "execution_count": 65,
   "metadata": {},
   "outputs": [
    {
     "name": "stdout",
     "output_type": "stream",
     "text": [
      "Mean Squared Error for Output Y1 = 8.83726815309656\n",
      "Mean Squared Error for Output Y2 = 10.320583891778828\n"
     ]
    }
   ],
   "source": [
    "train_x, test_x, train_y, test_y = train_test_split(X, Y, test_size=0.3, random_state=42)\n",
    "\n",
    "regr1, regr2 = LinearRegression(), LinearRegression()\n",
    "\n",
    "regr1.fit(train_x, train_y[:,0])\n",
    "regr2.fit(train_x, train_y[:,1])\n",
    "\n",
    "y1 = regr1.predict(test_x)\n",
    "y2 = regr2.predict(test_x)\n",
    "\n",
    "mse1 = np.mean((y1 - test_y[:,0]) ** 2)\n",
    "mse2 = np.mean((y2 - test_y[:,1]) ** 2)\n",
    "\n",
    "print(f'Mean Squared Error for Output Y1 = {mse1}')\n",
    "print(f'Mean Squared Error for Output Y2 = {mse2}')"
   ]
  },
  {
   "cell_type": "markdown",
   "metadata": {},
   "source": [
    "## Part (b)"
   ]
  },
  {
   "cell_type": "code",
   "execution_count": 66,
   "metadata": {},
   "outputs": [
    {
     "name": "stdout",
     "output_type": "stream",
     "text": [
      "Output Y1:\n",
      "  MSE for Ridge (λ=0.01): 8.704354271598708\n",
      "  MSE for Lasso (λ=0.01): 9.361897456562406\n",
      "  MSE for Ridge (λ=0.1): 8.980147855277137\n",
      "  MSE for Lasso (λ=0.1): 10.399343070028774\n",
      "  MSE for Ridge (λ=1): 9.42124099426449\n",
      "  MSE for Lasso (λ=1): 22.790394584922005\n",
      "  MSE for Ridge (λ=10): 11.860964209901597\n",
      "  MSE for Lasso (λ=10): 23.182109857519976\n",
      "  MSE for Ridge (λ=100): 17.517014932001725\n",
      "  MSE for Lasso (λ=100): 33.48553363485227\n",
      "Output Y2:\n",
      "  MSE for Ridge (λ=0.01): 9.298462908137465\n",
      "  MSE for Lasso (λ=0.01): 9.890146456527454\n",
      "  MSE for Ridge (λ=0.1): 9.533388540800383\n",
      "  MSE for Lasso (λ=0.1): 10.494966739158214\n",
      "  MSE for Ridge (λ=1): 9.82519465098676\n",
      "  MSE for Lasso (λ=1): 19.20021364850435\n",
      "  MSE for Ridge (λ=10): 10.846677596706748\n",
      "  MSE for Lasso (λ=10): 19.336176892848737\n",
      "  MSE for Ridge (λ=100): 14.435824080362325\n",
      "  MSE for Lasso (λ=100): 29.571121565732405\n"
     ]
    }
   ],
   "source": [
    "N= len(X)\n",
    "index = np.arange(N)\n",
    "np.random.shuffle(index)  # Shuffle dataset\n",
    "\n",
    "train_split = int(0.7 * N)\n",
    "val_split = int(0.15 * N)\n",
    "\n",
    "train_x = X[index[:train_split]]\n",
    "train_y = Y[index[:train_split]]\n",
    "\n",
    "val_x = X[index[train_split:train_split + val_split]]\n",
    "val_y = Y[index[train_split:train_split + val_split]]\n",
    "\n",
    "test_x = X[index[train_split + val_split:]]\n",
    "test_y = Y[index[train_split + val_split:]]\n",
    "\n",
    "lambdas = [0.01, 0.1, 1, 10, 100]  # Hyperparameter values to test\n",
    "results = {0: {}, 1: {}}  # For Y1 and Y2\n",
    "\n",
    "# Loop through each output\n",
    "for i in range(len(Y[0,:])):\n",
    "    for lamb in lambdas:\n",
    "        # Ridge Regression\n",
    "        ridge = Ridge(alpha=lamb)\n",
    "        ridge.fit(train_x, train_y[:, i])  # Fit for the i-th output\n",
    "        y_pred_ridge = ridge.predict(val_x)\n",
    "        mse_ridge = np.mean((val_y[:, i] - y_pred_ridge)**2)\n",
    "        results[i][f'Ridge (λ={lamb})'] = mse_ridge\n",
    "\n",
    "        # Lasso Regression\n",
    "        lasso = Lasso(alpha=lamb)\n",
    "        lasso.fit(train_x, train_y[:, i])  # Fit for the i-th output\n",
    "        y_pred_lasso = lasso.predict(val_x)\n",
    "        mse_lasso = np.mean((val_y[:, i] - y_pred_lasso)**2)\n",
    "        results[i][f'Lasso (λ={lamb})'] = mse_lasso\n",
    "\n",
    "# Print results\n",
    "for output_index, mse_results in results.items():\n",
    "    print(f'Output Y{output_index + 1}:')\n",
    "    for model, mse in mse_results.items():\n",
    "        print(f'  MSE for {model}: {mse}')\n"
   ]
  },
  {
   "cell_type": "markdown",
   "metadata": {},
   "source": [
    "## Part (c)"
   ]
  },
  {
   "cell_type": "code",
   "execution_count": 67,
   "metadata": {},
   "outputs": [
    {
     "name": "stdout",
     "output_type": "stream",
     "text": [
      "Mean Squared Error = 2.6941654238571565e-30\n",
      "Estimated coefficients: a=1.0000000000000018, b=3.0, c=4.999999999999997\n"
     ]
    }
   ],
   "source": [
    "import time\n",
    "# Constants\n",
    "a, b, c = 1, 3, 5\n",
    "N = 1000\n",
    "np.random.seed(int(time.time()))\n",
    "x = np.random.rand(N)\n",
    "y = np.random.rand(N)\n",
    "z = np.random.rand(N)\n",
    "\n",
    "Y = a*x + b*y + c*z\n",
    "X = np.column_stack((x, y, z))\n",
    "\n",
    "train_x, test_x, train_y, test_y = train_test_split(X, Y, test_size=0.3, random_state=42)\n",
    "\n",
    "regr = LinearRegression()\n",
    "regr.fit(train_x, train_y)\n",
    "\n",
    "y_pred = regr.predict(test_x)\n",
    "\n",
    "mse = np.mean((y_pred - test_y) ** 2)\n",
    "\n",
    "\n",
    "print(f'Mean Squared Error = {mse}')\n",
    "print(f'Estimated coefficients: a={regr.coef_[0]}, b={regr.coef_[1]}, c={regr.coef_[2]}')"
   ]
  },
  {
   "cell_type": "markdown",
   "metadata": {},
   "source": [
    "In general, lasso and ridge give less MSE value at optimised hypermeter $\\lambda$ which is visible in the printed data of our model"
   ]
  }
 ],
 "metadata": {
  "kernelspec": {
   "display_name": "Python 3",
   "language": "python",
   "name": "python3"
  },
  "language_info": {
   "codemirror_mode": {
    "name": "ipython",
    "version": 3
   },
   "file_extension": ".py",
   "mimetype": "text/x-python",
   "name": "python",
   "nbconvert_exporter": "python",
   "pygments_lexer": "ipython3",
   "version": "3.8.10"
  }
 },
 "nbformat": 4,
 "nbformat_minor": 2
}
